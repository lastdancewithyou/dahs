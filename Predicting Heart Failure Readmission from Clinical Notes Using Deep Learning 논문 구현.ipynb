{
 "cells": [
  {
   "cell_type": "code",
   "execution_count": 2,
   "metadata": {},
   "outputs": [
    {
     "name": "stderr",
     "output_type": "stream",
     "text": [
      "c:\\Users\\gangmin\\AppData\\Local\\miniconda3\\envs\\medical\\lib\\site-packages\\scipy\\__init__.py:146: UserWarning: A NumPy version >=1.16.5 and <1.23.0 is required for this version of SciPy (detected version 1.24.3\n",
      "  warnings.warn(f\"A NumPy version >={np_minversion} and <{np_maxversion}\"\n",
      "[nltk_data] Downloading package stopwords to\n",
      "[nltk_data]     C:\\Users\\gangmin\\AppData\\Roaming\\nltk_data...\n",
      "[nltk_data]   Package stopwords is already up-to-date!\n"
     ]
    },
    {
     "data": {
      "text/plain": [
       "True"
      ]
     },
     "execution_count": 2,
     "metadata": {},
     "output_type": "execute_result"
    }
   ],
   "source": [
    "import pandas as pd\n",
    "from sklearn.model_selection import train_test_split, cross_val_score\n",
    "from sklearn.metrics import precision_score, recall_score, f1_score, accuracy_score\n",
    "import warnings\n",
    "import torch\n",
    "import torch.nn as nn\n",
    "import torch.nn.functional as F\n",
    "import torch.optim as optim\n",
    "from gensim.models import KeyedVectors\n",
    "from torch.utils.data import DataLoader, Dataset\n",
    "import numpy as np\n",
    "import re\n",
    "import matplotlib.pyplot as plt\n",
    "from tqdm import tqdm\n",
    "import math\n",
    "import nltk\n",
    "from nltk.corpus import stopwords\n",
    "from scipy.stats import chi2_contingency\n",
    "from collections import Counter\n",
    "\n",
    "nltk.download('stopwords')"
   ]
  },
  {
   "cell_type": "code",
   "execution_count": 4,
   "metadata": {},
   "outputs": [],
   "source": [
    "icd_10 = d_icd_diagnoses[d_icd_diagnoses['icd_version']==10]"
   ]
  },
  {
   "cell_type": "markdown",
   "metadata": {},
   "source": [
    "- I5040\tUnspecified combined systolic (congestive) and diastolic (congestive) heart failure\n",
    "- I5041\tAcute combined systolic (congestive) and diastolic (congestive) heart failure\n",
    "- I5042\tChronic combined systolic (congestive) and diastolic (congestive) heart failure\n",
    "- I5043\tAcute on chronic combined systolic (congestive) and diastolic (congestive) heart failure\n",
    "- I50810\tRight heart failure, unspecified\n",
    "- I50811\tAcute right heart failure\n",
    "- I50812\tChronic right heart failure\n",
    "- I50813\tAcute on chronic right heart failure\n",
    "- I50814\tRight heart failure due to left heart failure\n",
    "- I5082\tBiventricular heart failure\n",
    "- I5083\tHigh output heart failure\n",
    "- I5084\tEnd stage heart failure\n",
    "- I5089\tOther heart failure\n",
    "- I509\tHeart failure, unspecified\n",
    "- R570\tCardiogenic shock\n",
    "- R579\tShock, unspecified"
   ]
  },
  {
   "cell_type": "code",
   "execution_count": 5,
   "metadata": {},
   "outputs": [
    {
     "data": {
      "text/html": [
       "<div>\n",
       "<style scoped>\n",
       "    .dataframe tbody tr th:only-of-type {\n",
       "        vertical-align: middle;\n",
       "    }\n",
       "\n",
       "    .dataframe tbody tr th {\n",
       "        vertical-align: top;\n",
       "    }\n",
       "\n",
       "    .dataframe thead th {\n",
       "        text-align: right;\n",
       "    }\n",
       "</style>\n",
       "<table border=\"1\" class=\"dataframe\">\n",
       "  <thead>\n",
       "    <tr style=\"text-align: right;\">\n",
       "      <th></th>\n",
       "      <th>icd_code</th>\n",
       "      <th>icd_version</th>\n",
       "      <th>long_title</th>\n",
       "    </tr>\n",
       "  </thead>\n",
       "  <tbody>\n",
       "    <tr>\n",
       "      <th>24793</th>\n",
       "      <td>I5040</td>\n",
       "      <td>10</td>\n",
       "      <td>Unspecified combined systolic (congestive) and...</td>\n",
       "    </tr>\n",
       "  </tbody>\n",
       "</table>\n",
       "</div>"
      ],
      "text/plain": [
       "      icd_code  icd_version                                         long_title\n",
       "24793    I5040           10  Unspecified combined systolic (congestive) and..."
      ]
     },
     "execution_count": 5,
     "metadata": {},
     "output_type": "execute_result"
    }
   ],
   "source": [
    "icd_10[icd_10['icd_code'].str.startswith('I5040')]"
   ]
  },
  {
   "cell_type": "code",
   "execution_count": 6,
   "metadata": {},
   "outputs": [],
   "source": [
    "heart_failure_code = ['I5040','I5041','I5042','I5043','I50810','I50811','I50812','I50813','I50814','I5082','I5083','I5084','I5089','I509','R570','R579']"
   ]
  },
  {
   "cell_type": "code",
   "execution_count": 7,
   "metadata": {},
   "outputs": [],
   "source": [
    "heart_failure_df = icd_10[icd_10['icd_code'].isin(heart_failure_code)]"
   ]
  },
  {
   "cell_type": "code",
   "execution_count": 8,
   "metadata": {},
   "outputs": [
    {
     "data": {
      "text/html": [
       "<div>\n",
       "<style scoped>\n",
       "    .dataframe tbody tr th:only-of-type {\n",
       "        vertical-align: middle;\n",
       "    }\n",
       "\n",
       "    .dataframe tbody tr th {\n",
       "        vertical-align: top;\n",
       "    }\n",
       "\n",
       "    .dataframe thead th {\n",
       "        text-align: right;\n",
       "    }\n",
       "</style>\n",
       "<table border=\"1\" class=\"dataframe\">\n",
       "  <thead>\n",
       "    <tr style=\"text-align: right;\">\n",
       "      <th></th>\n",
       "      <th>subject_id</th>\n",
       "      <th>hadm_id</th>\n",
       "      <th>seq_num</th>\n",
       "      <th>icd_code</th>\n",
       "      <th>icd_version</th>\n",
       "    </tr>\n",
       "  </thead>\n",
       "  <tbody>\n",
       "    <tr>\n",
       "      <th>0</th>\n",
       "      <td>10000032</td>\n",
       "      <td>22595853</td>\n",
       "      <td>1</td>\n",
       "      <td>5723</td>\n",
       "      <td>9</td>\n",
       "    </tr>\n",
       "    <tr>\n",
       "      <th>1</th>\n",
       "      <td>10000032</td>\n",
       "      <td>22595853</td>\n",
       "      <td>2</td>\n",
       "      <td>78959</td>\n",
       "      <td>9</td>\n",
       "    </tr>\n",
       "    <tr>\n",
       "      <th>2</th>\n",
       "      <td>10000032</td>\n",
       "      <td>22595853</td>\n",
       "      <td>3</td>\n",
       "      <td>5715</td>\n",
       "      <td>9</td>\n",
       "    </tr>\n",
       "    <tr>\n",
       "      <th>3</th>\n",
       "      <td>10000032</td>\n",
       "      <td>22595853</td>\n",
       "      <td>4</td>\n",
       "      <td>07070</td>\n",
       "      <td>9</td>\n",
       "    </tr>\n",
       "    <tr>\n",
       "      <th>4</th>\n",
       "      <td>10000032</td>\n",
       "      <td>22595853</td>\n",
       "      <td>5</td>\n",
       "      <td>496</td>\n",
       "      <td>9</td>\n",
       "    </tr>\n",
       "    <tr>\n",
       "      <th>...</th>\n",
       "      <td>...</td>\n",
       "      <td>...</td>\n",
       "      <td>...</td>\n",
       "      <td>...</td>\n",
       "      <td>...</td>\n",
       "    </tr>\n",
       "    <tr>\n",
       "      <th>4756321</th>\n",
       "      <td>19999987</td>\n",
       "      <td>23865745</td>\n",
       "      <td>7</td>\n",
       "      <td>41401</td>\n",
       "      <td>9</td>\n",
       "    </tr>\n",
       "    <tr>\n",
       "      <th>4756322</th>\n",
       "      <td>19999987</td>\n",
       "      <td>23865745</td>\n",
       "      <td>8</td>\n",
       "      <td>78039</td>\n",
       "      <td>9</td>\n",
       "    </tr>\n",
       "    <tr>\n",
       "      <th>4756323</th>\n",
       "      <td>19999987</td>\n",
       "      <td>23865745</td>\n",
       "      <td>9</td>\n",
       "      <td>0413</td>\n",
       "      <td>9</td>\n",
       "    </tr>\n",
       "    <tr>\n",
       "      <th>4756324</th>\n",
       "      <td>19999987</td>\n",
       "      <td>23865745</td>\n",
       "      <td>10</td>\n",
       "      <td>36846</td>\n",
       "      <td>9</td>\n",
       "    </tr>\n",
       "    <tr>\n",
       "      <th>4756325</th>\n",
       "      <td>19999987</td>\n",
       "      <td>23865745</td>\n",
       "      <td>11</td>\n",
       "      <td>7810</td>\n",
       "      <td>9</td>\n",
       "    </tr>\n",
       "  </tbody>\n",
       "</table>\n",
       "<p>4756326 rows × 5 columns</p>\n",
       "</div>"
      ],
      "text/plain": [
       "         subject_id   hadm_id  seq_num icd_code  icd_version\n",
       "0          10000032  22595853        1     5723            9\n",
       "1          10000032  22595853        2    78959            9\n",
       "2          10000032  22595853        3     5715            9\n",
       "3          10000032  22595853        4    07070            9\n",
       "4          10000032  22595853        5      496            9\n",
       "...             ...       ...      ...      ...          ...\n",
       "4756321    19999987  23865745        7    41401            9\n",
       "4756322    19999987  23865745        8    78039            9\n",
       "4756323    19999987  23865745        9     0413            9\n",
       "4756324    19999987  23865745       10    36846            9\n",
       "4756325    19999987  23865745       11     7810            9\n",
       "\n",
       "[4756326 rows x 5 columns]"
      ]
     },
     "execution_count": 8,
     "metadata": {},
     "output_type": "execute_result"
    }
   ],
   "source": [
    "diagnoses_icd"
   ]
  },
  {
   "cell_type": "code",
   "execution_count": 9,
   "metadata": {},
   "outputs": [],
   "source": [
    "hf_patient = diagnoses_icd[diagnoses_icd['icd_code'].isin(heart_failure_code)][['subject_id', 'hadm_id']]"
   ]
  },
  {
   "cell_type": "code",
   "execution_count": 10,
   "metadata": {},
   "outputs": [],
   "source": [
    "hf_note = note.merge(hf_patient,how='right', on=['subject_id', 'hadm_id'])\n",
    "hf_note['text_length'] = hf_note['text'].apply(lambda x: len(x) if pd.notna(x) else 0)\n",
    "\n",
    "# 'subject_id', 'hadm_id', 'note_id가 동일한 경우에는 text length가 가장 긴 행만 남김\n",
    "hf_note_max_text = hf_note.loc[hf_note.groupby(['subject_id', 'hadm_id', 'note_id'])['text_length'].idxmax()]\n",
    "hf_note_max_text = hf_note_max_text.drop(columns=['text_length'])"
   ]
  },
  {
   "cell_type": "code",
   "execution_count": 11,
   "metadata": {},
   "outputs": [],
   "source": [
    "admission_time = admission[['subject_id', 'hadm_id', 'dischtime', 'deathtime']]"
   ]
  },
  {
   "cell_type": "code",
   "execution_count": 12,
   "metadata": {},
   "outputs": [],
   "source": [
    "hf_note_max_text= hf_note_max_text.merge(admission_time, how='left', on=['subject_id', 'hadm_id'])"
   ]
  },
  {
   "cell_type": "code",
   "execution_count": 13,
   "metadata": {},
   "outputs": [],
   "source": [
    "hf_note_max_text['dischtime'] = pd.to_datetime(hf_note_max_text['dischtime'])\n",
    "admission['admittime'] = pd.to_datetime(admission['admittime'])\n",
    "admission['dischtime'] = pd.to_datetime(admission['dischtime'])\n",
    "hf_note_max_text['label'] = 0\n",
    "\n",
    "admission_general = hf_note_max_text.copy()\n",
    "admission_30days = hf_note_max_text.copy()"
   ]
  },
  {
   "cell_type": "code",
   "execution_count": 14,
   "metadata": {},
   "outputs": [],
   "source": [
    "# 단순히 readmission이 있기만 하면 1로 라벨링함 / 논문에 따르면 scenario A\n",
    "for idx, note_row in admission_general.iterrows():\n",
    "    subject_id = note_row['subject_id']\n",
    "    dischtime = note_row['dischtime']\n",
    "    \n",
    "    general_admissions = admission[admission['subject_id'] == subject_id]\n",
    "    within_admission = general_admissions[\n",
    "        (general_admissions['admittime'] > dischtime)]\n",
    "    \n",
    "    if not within_admission.empty:\n",
    "        admission_general.at[idx, 'label'] = 1"
   ]
  },
  {
   "cell_type": "code",
   "execution_count": 15,
   "metadata": {},
   "outputs": [],
   "source": [
    "# 30일 이내에 readmission 기록이 있는 경우에만 라벨링함 / 논문에 따르면 scenario B\n",
    "for idx, note_row in admission_30days.iterrows():\n",
    "    subject_id = note_row['subject_id']\n",
    "    dischtime = note_row['dischtime']\n",
    "    \n",
    "    admissions_30days = admission[admission['subject_id'] == subject_id]\n",
    "    within_30_days = admissions_30days[\n",
    "        (admissions_30days['admittime'] > dischtime) & \n",
    "        (admissions_30days['admittime'] <= dischtime + pd.Timedelta(days=30))]\n",
    "    \n",
    "    if not within_30_days.empty:\n",
    "        admission_30days.at[idx, 'label'] = 1"
   ]
  },
  {
   "cell_type": "code",
   "execution_count": 16,
   "metadata": {},
   "outputs": [
    {
     "name": "stdout",
     "output_type": "stream",
     "text": [
      "단순히 readmission한 환자:  2138\n",
      "30일 이내 readmission한 환자:  889\n"
     ]
    }
   ],
   "source": [
    "print(\"단순히 readmission한 환자: \", len(admission_general[admission_general['label']==1]))\n",
    "print(\"30일 이내 readmission한 환자: \", len(admission_30days[admission_30days['label']==1]))"
   ]
  },
  {
   "cell_type": "code",
   "execution_count": 17,
   "metadata": {},
   "outputs": [
    {
     "data": {
      "text/plain": [
       "label\n",
       "0    2507\n",
       "1    2138\n",
       "Name: count, dtype: int64"
      ]
     },
     "execution_count": 17,
     "metadata": {},
     "output_type": "execute_result"
    }
   ],
   "source": [
    "admission_general['label'].value_counts()"
   ]
  },
  {
   "cell_type": "code",
   "execution_count": 18,
   "metadata": {},
   "outputs": [
    {
     "data": {
      "text/plain": [
       "label\n",
       "0    3756\n",
       "1     889\n",
       "Name: count, dtype: int64"
      ]
     },
     "execution_count": 18,
     "metadata": {},
     "output_type": "execute_result"
    }
   ],
   "source": [
    "admission_30days['label'].value_counts()"
   ]
  },
  {
   "cell_type": "code",
   "execution_count": 19,
   "metadata": {},
   "outputs": [],
   "source": [
    "pos_general_num = len(admission_general[admission_general['label']==1])\n",
    "pos_30days_num = len(admission_30days[admission_30days['label']==1])\n",
    "pos_general = admission_general[admission_general['label']==1]\n",
    "pos_30days = admission_30days[admission_30days['label']==1]\n",
    "neg_general = admission_general[admission_general['label']==0].sample(n=pos_general_num)\n",
    "neg_30days = admission_30days[admission_30days['label']==0].sample(n=pos_30days_num)\n",
    "\n",
    "general = pd.concat([pos_general, neg_general])\n",
    "days_30 = pd.concat([pos_30days, neg_30days])\n",
    "\n",
    "general = general[['text', 'label']].copy()\n",
    "days_30 = days_30[['text', 'label']].copy()"
   ]
  },
  {
   "cell_type": "markdown",
   "metadata": {},
   "source": [
    "## Text Preprocessing"
   ]
  },
  {
   "cell_type": "code",
   "execution_count": 26,
   "metadata": {},
   "outputs": [],
   "source": [
    "tqdm.pandas()"
   ]
  },
  {
   "cell_type": "code",
   "execution_count": 27,
   "metadata": {},
   "outputs": [
    {
     "name": "stderr",
     "output_type": "stream",
     "text": [
      "100%|██████████| 4276/4276 [00:21<00:00, 203.31it/s]\n",
      "100%|██████████| 1778/1778 [00:09<00:00, 196.46it/s]\n"
     ]
    }
   ],
   "source": [
    "def preprocess_text(text) : \n",
    "\n",
    "        # text = re.sub(r'[^a-zA-Z0-9\\s]', '', text)\n",
    "        text = text.lower()\n",
    "        text = re.sub(r'[^a-zA-Z0-9\\s\\.\\n]', '', text)\n",
    "        text = re.sub(r'\\s+', ' ', text) # 연속된 공백을 하나의 공백으로 변환\n",
    "        text = text.strip() # 양쪽 끝의 공백 제거\n",
    "\n",
    "        # 익명화되어 알 수 없는 개인 정보 단어 삭제\n",
    "        anony_words = ['name', 'unit', 'no', 'admission date', 'discharge date', 'date of birth', 'date', 'birth', 'attending', 'followup instructions', 'sex', 'service', 'chief complaint', 'major surgical or invasive procedure', 'history of present illness', 'past medical history', 'allergies',\n",
    "                       'medications', 'social history', 'physical examination','laboratory data', 'hospital course', 'discharge instructions','discharge medications', 'discharge condition', 'diagnosis', '.']\n",
    "        for word in anony_words:\n",
    "                text = re.sub(r'\\b' + re.escape(word) + r'\\b', '', text)\n",
    "\n",
    "        # 숫자 제거\n",
    "        text = re.sub(r'\\d+', '', text)\n",
    "\n",
    "        # 불용어 제거\n",
    "        stop_words = list(stopwords.words('english'))\n",
    "        text_words = text.split()\n",
    "        text_words = [word for word in text_words if word not in stop_words]\n",
    "        text = ' '.join(text_words)\n",
    "\n",
    "        return text\n",
    "\n",
    "general['text'] = general['text'].progress_apply(preprocess_text)\n",
    "days_30['text'] = days_30['text'].progress_apply(preprocess_text)"
   ]
  },
  {
   "cell_type": "code",
   "execution_count": 28,
   "metadata": {},
   "outputs": [
    {
     "data": {
      "text/plain": [
       "9417.702993451825"
      ]
     },
     "execution_count": 28,
     "metadata": {},
     "output_type": "execute_result"
    }
   ],
   "source": [
    "general['text_length'] = general['text'].apply(len)\n",
    "average_length = general['text_length'].mean()\n",
    "average_length"
   ]
  },
  {
   "cell_type": "code",
   "execution_count": 29,
   "metadata": {},
   "outputs": [
    {
     "name": "stdout",
     "output_type": "stream",
     "text": [
      "최대 글자수:  38855\n",
      "최소 글자수:  182\n"
     ]
    }
   ],
   "source": [
    "print('최대 글자수: ', general['text_length'].max())\n",
    "print('최소 글자수: ', general['text_length'].min())"
   ]
  },
  {
   "cell_type": "code",
   "execution_count": 30,
   "metadata": {},
   "outputs": [
    {
     "data": {
      "image/png": "[encoded data removed]",
      "text/plain": [
       "<Figure size 640x480 with 1 Axes>"
      ]
     },
     "metadata": {},
     "output_type": "display_data"
    }
   ],
   "source": [
    "plt.hist(general['text_length'], bins=range(0,40000,1000), edgecolor='black')\n",
    "plt.xlabel('Summary Length')\n",
    "plt.ylabel('Frequency')\n",
    "plt.title('general')\n",
    "plt.show()"
   ]
  },
  {
   "cell_type": "code",
   "execution_count": 31,
   "metadata": {},
   "outputs": [
    {
     "name": "stdout",
     "output_type": "stream",
     "text": [
      "lower bound 4223.25\n",
      "upper_bound 16917.75\n"
     ]
    }
   ],
   "source": [
    "lower_bound = general['text_length'].quantile(0.05)\n",
    "upper_bound = general['text_length'].quantile(0.95)\n",
    "print('lower bound', lower_bound)\n",
    "print('upper_bound', upper_bound)"
   ]
  },
  {
   "cell_type": "code",
   "execution_count": 32,
   "metadata": {},
   "outputs": [],
   "source": [
    "filtered_general = general[(general['text_length'] >= lower_bound) & (general['text_length'] <= upper_bound)]"
   ]
  },
  {
   "cell_type": "code",
   "execution_count": 33,
   "metadata": {},
   "outputs": [
    {
     "name": "stdout",
     "output_type": "stream",
     "text": [
      "상, 하위 5%씩 제거한 후 글자수 평균:  9129.252079002079\n"
     ]
    }
   ],
   "source": [
    "print(\"상, 하위 5%씩 제거한 후 글자수 평균: \", filtered_general['text_length'].mean())"
   ]
  },
  {
   "cell_type": "code",
   "execution_count": 34,
   "metadata": {},
   "outputs": [
    {
     "data": {
      "image/png": "[encoded data removed]",
      "text/plain": [
       "<Figure size 640x480 with 1 Axes>"
      ]
     },
     "metadata": {},
     "output_type": "display_data"
    }
   ],
   "source": [
    "plt.hist(filtered_general['text_length'], bins=range(0,20000,1000), edgecolor='black')\n",
    "plt.xlabel('Summary Length')\n",
    "plt.ylabel('Frequency')\n",
    "plt.title('general')\n",
    "plt.show()"
   ]
  },
  {
   "cell_type": "code",
   "execution_count": 35,
   "metadata": {},
   "outputs": [],
   "source": [
    "# admission_general\n",
    "X = filtered_general['text']\n",
    "y = filtered_general['label']\n",
    "\n",
    "X_train, X_test, y_train, y_test = train_test_split(X, y, test_size = 0.1, random_state=0)"
   ]
  },
  {
   "cell_type": "code",
   "execution_count": 36,
   "metadata": {},
   "outputs": [],
   "source": [
    "# admission_30days\n",
    "A = days_30['text']\n",
    "b = days_30['label']\n",
    "\n",
    "A_train, A_test, b_train, b_test = train_test_split(A, b, test_size = 0.1, random_state=0)"
   ]
  },
  {
   "cell_type": "markdown",
   "metadata": {},
   "source": [
    "---"
   ]
  },
  {
   "cell_type": "markdown",
   "metadata": {},
   "source": [
    "## word2vec Embedding"
   ]
  },
  {
   "cell_type": "code",
   "execution_count": 37,
   "metadata": {},
   "outputs": [],
   "source": [
    "def calculate_length(texts):\n",
    "    lengths = []\n",
    "    for text in texts : \n",
    "        parts = text.split(',')\n",
    "        for part in parts : \n",
    "            word_count = len(part.split())\n",
    "            lengths.append(word_count)\n",
    "\n",
    "    avg_length = np.mean(lengths)\n",
    "    max_length = np.max(lengths)\n",
    "    min_length = np.min(lengths)\n",
    "\n",
    "    return avg_length, max_length, min_length\n",
    "\n",
    "# 각 행의 평균 길이 계산\n",
    "general['length'] = general['text'].apply(calculate_length)\n",
    "days_30['length'] = days_30['text'].apply(calculate_length)"
   ]
  },
  {
   "cell_type": "code",
   "execution_count": 38,
   "metadata": {},
   "outputs": [
    {
     "name": "stdout",
     "output_type": "stream",
     "text": [
      "전체 평균: 0.8608037640377574\n",
      "최대 길이: 1.0\n",
      "최소 길이: 0.0\n"
     ]
    }
   ],
   "source": [
    "avg_length = general['length'].apply(lambda x: x[0])\n",
    "max_length = general['length'].apply(lambda x: x[1])\n",
    "min_length = general['length'].apply(lambda x: x[2])\n",
    "\n",
    "average = avg_length.mean()\n",
    "max_average = max_length.mean()\n",
    "min_average = min_length.mean()\n",
    "\n",
    "print(f\"전체 평균: {average}\")\n",
    "print(f\"최대 길이: {max_average}\")\n",
    "print(f\"최소 길이: {min_average}\")"
   ]
  },
  {
   "cell_type": "code",
   "execution_count": 39,
   "metadata": {},
   "outputs": [
    {
     "name": "stdout",
     "output_type": "stream",
     "text": [
      "전체 평균: 0.8606459642325579\n",
      "최대 길이: 1.0\n",
      "최소 길이: 0.0\n"
     ]
    }
   ],
   "source": [
    "avg_length = days_30['length'].apply(lambda x: x[0])\n",
    "max_length = days_30['length'].apply(lambda x: x[1])\n",
    "min_length = days_30['length'].apply(lambda x: x[2])\n",
    "\n",
    "# 각 리스트의 전체 평균 계산\n",
    "average = avg_length.mean()\n",
    "max_average = max_length.mean()\n",
    "min_average = min_length.mean()\n",
    "\n",
    "print(f\"전체 평균: {average}\")\n",
    "print(f\"최대 길이: {max_average}\")\n",
    "print(f\"최소 길이: {min_average}\")"
   ]
  },
  {
   "cell_type": "code",
   "execution_count": 40,
   "metadata": {},
   "outputs": [],
   "source": [
    "word2vec_path = \"C:/Users/gangmin/dahs/PubMed-and-PMC-w2v.bin\"\n",
    "word2vec = KeyedVectors.load_word2vec_format(word2vec_path, binary=True)"
   ]
  },
  {
   "cell_type": "markdown",
   "metadata": {},
   "source": [
    "- max length == 10000"
   ]
  },
  {
   "cell_type": "code",
   "execution_count": 45,
   "metadata": {},
   "outputs": [],
   "source": [
    "embedding_dim = 200\n",
    "\n",
    "def get_word_embedding(word) : \n",
    "    if word in word2vec : \n",
    "        return word2vec[word]\n",
    "    else : \n",
    "        return np.random.uniform(-0.25, 0.25, embedding_dim) # Words not present in the set of pre-trained words are initialized randomly\n",
    "\n",
    "def pad_sequences(sequences, maxlen=10000):\n",
    "    if maxlen is None:\n",
    "        maxlen = max(len(seq) for seq in sequences)\n",
    "    padded_sequences = np.zeros((len(sequences), maxlen, embedding_dim))\n",
    "    for i, seq in enumerate(sequences):\n",
    "        length = min(len(seq), maxlen)\n",
    "        padded_sequences[i, :length] = seq[:length]\n",
    "    return padded_sequences\n",
    "\n",
    "def create_padded_embeddings(texts, batch_size=32):\n",
    "    batches = [texts[i:i + batch_size] for i in range(0, len(texts), batch_size)]\n",
    "    all_padded_embeddings = []\n",
    "    for batch in tqdm(batches):\n",
    "        embeddings = []\n",
    "        for text in batch:\n",
    "            words = text.split()\n",
    "            embedding = [get_word_embedding(word) for word in words]\n",
    "            embeddings.append(embedding)\n",
    "        padded_embeddings = pad_sequences(embeddings)\n",
    "        all_padded_embeddings.extend(padded_embeddings)\n",
    "    return np.array(all_padded_embeddings)"
   ]
  },
  {
   "cell_type": "code",
   "execution_count": 46,
   "metadata": {},
   "outputs": [
    {
     "name": "stderr",
     "output_type": "stream",
     "text": [
      "100%|██████████| 433/433 [00:05<00:00, 75.38it/s]\n",
      "100%|██████████| 25/25 [00:00<00:00, 35.33it/s]\n"
     ]
    }
   ],
   "source": [
    "padded_embeddings_train = create_padded_embeddings(X_train, batch_size=8)\n",
    "padded_embeddings_test = create_padded_embeddings(X_test, batch_size=16)\n",
    "labels_train = y_train.tolist()\n",
    "labels_test = y_test.tolist()"
   ]
  },
  {
   "cell_type": "code",
   "execution_count": 47,
   "metadata": {},
   "outputs": [
    {
     "name": "stderr",
     "output_type": "stream",
     "text": [
      "100%|██████████| 200/200 [00:03<00:00, 60.38it/s]\n",
      "100%|██████████| 12/12 [00:00<00:00, 32.28it/s]\n"
     ]
    }
   ],
   "source": [
    "padded_embeddings_train_30days = create_padded_embeddings(A_train, batch_size=8)\n",
    "padded_embeddings_test_30days = create_padded_embeddings(A_test, batch_size=16)\n",
    "labels_train_30days = b_train.tolist()\n",
    "labels_test_30days = b_test.tolist()"
   ]
  },
  {
   "cell_type": "markdown",
   "metadata": {},
   "source": [
    "- max length == 20000"
   ]
  },
  {
   "cell_type": "code",
   "execution_count": 41,
   "metadata": {},
   "outputs": [],
   "source": [
    "embedding_dim = 200\n",
    "\n",
    "def get_word_embedding(word) : \n",
    "    if word in word2vec : \n",
    "        return word2vec[word]\n",
    "    else : \n",
    "        return np.random.uniform(-0.25, 0.25, embedding_dim) # Words not present in the set of pre-trained words are initialized randomly\n",
    "\n",
    "def pad_sequences(sequences, maxlen=20000):\n",
    "    if maxlen is None:\n",
    "        maxlen = max(len(seq) for seq in sequences)\n",
    "    padded_sequences = np.zeros((len(sequences), maxlen, embedding_dim))\n",
    "    for i, seq in enumerate(sequences):\n",
    "        length = min(len(seq), maxlen)\n",
    "        padded_sequences[i, :length] = seq[:length]\n",
    "    return padded_sequences\n",
    "\n",
    "def create_padded_embeddings(texts, batch_size=32):\n",
    "    batches = [texts[i:i + batch_size] for i in range(0, len(texts), batch_size)]\n",
    "    all_padded_embeddings = []\n",
    "    for batch in tqdm(batches):\n",
    "        embeddings = []\n",
    "        for text in batch:\n",
    "            words = text.split()\n",
    "            embedding = [get_word_embedding(word) for word in words]\n",
    "            embeddings.append(embedding)\n",
    "        padded_embeddings = pad_sequences(embeddings)\n",
    "        all_padded_embeddings.extend(padded_embeddings)\n",
    "    return np.array(all_padded_embeddings)"
   ]
  },
  {
   "cell_type": "code",
   "execution_count": 42,
   "metadata": {},
   "outputs": [
    {
     "name": "stderr",
     "output_type": "stream",
     "text": [
      "100%|██████████| 433/433 [00:05<00:00, 76.12it/s]\n",
      "100%|██████████| 25/25 [00:00<00:00, 26.99it/s]\n"
     ]
    }
   ],
   "source": [
    "padded_embeddings_train = create_padded_embeddings(X_train, batch_size=8)\n",
    "padded_embeddings_test = create_padded_embeddings(X_test, batch_size=16)\n",
    "labels_train = y_train.tolist()\n",
    "labels_test = y_test.tolist()"
   ]
  },
  {
   "cell_type": "code",
   "execution_count": 43,
   "metadata": {},
   "outputs": [
    {
     "name": "stderr",
     "output_type": "stream",
     "text": [
      "100%|██████████| 200/200 [00:03<00:00, 59.56it/s]\n",
      "100%|██████████| 12/12 [00:00<00:00, 23.81it/s]\n"
     ]
    }
   ],
   "source": [
    "padded_embeddings_train_30days = create_padded_embeddings(A_train, batch_size=8)\n",
    "padded_embeddings_test_30days = create_padded_embeddings(A_test, batch_size=16)\n",
    "labels_train_30days = b_train.tolist()\n",
    "labels_test_30days = b_test.tolist()"
   ]
  },
  {
   "cell_type": "code",
   "execution_count": 44,
   "metadata": {},
   "outputs": [
    {
     "data": {
      "text/plain": [
       "(3463, 20000, 200)"
      ]
     },
     "execution_count": 44,
     "metadata": {},
     "output_type": "execute_result"
    }
   ],
   "source": [
    "padded_embeddings_train.shape"
   ]
  },
  {
   "cell_type": "code",
   "execution_count": 45,
   "metadata": {},
   "outputs": [
    {
     "data": {
      "text/plain": [
       "(385, 20000, 200)"
      ]
     },
     "execution_count": 45,
     "metadata": {},
     "output_type": "execute_result"
    }
   ],
   "source": [
    "padded_embeddings_test.shape"
   ]
  },
  {
   "cell_type": "code",
   "execution_count": 46,
   "metadata": {},
   "outputs": [
    {
     "data": {
      "text/plain": [
       "(1600, 20000, 200)"
      ]
     },
     "execution_count": 46,
     "metadata": {},
     "output_type": "execute_result"
    }
   ],
   "source": [
    "padded_embeddings_train_30days.shape"
   ]
  },
  {
   "cell_type": "code",
   "execution_count": 47,
   "metadata": {},
   "outputs": [
    {
     "data": {
      "text/plain": [
       "(178, 20000, 200)"
      ]
     },
     "execution_count": 47,
     "metadata": {},
     "output_type": "execute_result"
    }
   ],
   "source": [
    "padded_embeddings_test_30days.shape"
   ]
  },
  {
   "cell_type": "markdown",
   "metadata": {},
   "source": [
    "## Modeling"
   ]
  },
  {
   "cell_type": "code",
   "execution_count": 48,
   "metadata": {},
   "outputs": [],
   "source": [
    "import os\n",
    "os.environ['CUDA_LAUNCH_BLOCKING'] = '1'"
   ]
  },
  {
   "cell_type": "code",
   "execution_count": 49,
   "metadata": {},
   "outputs": [],
   "source": [
    "class ClinicalnotesDataset(Dataset) : \n",
    "    def __init__(self, data, labels) : \n",
    "        self.data = data\n",
    "        self.labels = labels\n",
    "\n",
    "    def __len__(self) : \n",
    "        return len(self.data)\n",
    "    \n",
    "    def __getitem__(self, idx) : \n",
    "        data_tensor = torch.tensor(self.data[idx], dtype=torch.float32)\n",
    "        label_tensor = torch.tensor(self.labels[idx], dtype=torch.long)\n",
    "        return data_tensor, label_tensor"
   ]
  },
  {
   "cell_type": "code",
   "execution_count": 50,
   "metadata": {},
   "outputs": [],
   "source": [
    "# 단순히 readmission 이력만 있는 경우\n",
    "train_dataset = ClinicalnotesDataset(padded_embeddings_train, labels_train)\n",
    "test_dataset = ClinicalnotesDataset(padded_embeddings_test, labels_test)\n",
    "\n",
    "train_dataloader = DataLoader(train_dataset, batch_size=8, shuffle=True)\n",
    "test_dataloader = DataLoader(test_dataset, batch_size=16, shuffle=False)"
   ]
  },
  {
   "cell_type": "code",
   "execution_count": 51,
   "metadata": {},
   "outputs": [],
   "source": [
    "# 30일 이내에 readmission 이력이 있는 경우\n",
    "train_dataset_30days = ClinicalnotesDataset(padded_embeddings_train_30days, labels_train_30days)\n",
    "test_dataset_30days = ClinicalnotesDataset(padded_embeddings_test_30days, labels_test_30days)\n",
    "\n",
    "train_dataloader_30days = DataLoader(train_dataset_30days, batch_size=8, shuffle=True)\n",
    "test_dataloader_30days = DataLoader(test_dataset_30days, batch_size=16, shuffle=False)"
   ]
  },
  {
   "cell_type": "code",
   "execution_count": 69,
   "metadata": {},
   "outputs": [
    {
     "name": "stdout",
     "output_type": "stream",
     "text": [
      "Training data and labels length: 3463 3463\n",
      "Test data and labels length: 385 385\n"
     ]
    }
   ],
   "source": [
    "print(\"Training data and labels length:\", len(padded_embeddings_train), len(labels_train))\n",
    "print(\"Test data and labels length:\", len(padded_embeddings_test), len(labels_test))"
   ]
  },
  {
   "cell_type": "code",
   "execution_count": 70,
   "metadata": {},
   "outputs": [
    {
     "name": "stdout",
     "output_type": "stream",
     "text": [
      "Training data and labels length: 1600 1600\n",
      "Test data and labels length: 178 178\n"
     ]
    }
   ],
   "source": [
    "print(\"Training data and labels length:\", len(padded_embeddings_train_30days), len(labels_train_30days))\n",
    "print(\"Test data and labels length:\", len(padded_embeddings_test_30days), len(labels_test_30days))"
   ]
  },
  {
   "cell_type": "code",
   "execution_count": 52,
   "metadata": {},
   "outputs": [],
   "source": [
    "class CNN(nn.Module):\n",
    "  def __init__(self, embedding_dim, n_filters, filter_sizes, dropout, output_dim):\n",
    "    \n",
    "    super().__init__()\n",
    "\n",
    "    self.embedding_dim = embedding_dim\n",
    "    self.n_filters = n_filters\n",
    "    self.filter_sizes = filter_sizes\n",
    "    self.output_dim = output_dim\n",
    "    self.dropout = nn.Dropout(dropout)\n",
    "\n",
    "    self.conv_0 = nn.Conv1d(in_channels = embedding_dim, \n",
    "                            out_channels = n_filters, \n",
    "                            kernel_size = filter_sizes[0]) # 1D CNN 연산에서는 커널의 높이만으로 해당 커널의 크기를 간주함(커널의 너비는 문장 행렬에서의 임베딩 벡터의 차원과 동일함)\n",
    "    \n",
    "    self.conv_1 = nn.Conv1d(in_channels = embedding_dim,\n",
    "                            out_channels = n_filters,\n",
    "                            kernel_size = filter_sizes[1]) \n",
    "    \n",
    "    self.conv_2 = nn.Conv1d(in_channels = embedding_dim,\n",
    "                            out_channels = n_filters,\n",
    "                            kernel_size = filter_sizes[2])\n",
    "    \n",
    "    self.fc = nn.Linear(len(filter_sizes) * n_filters, output_dim)\n",
    "\n",
    "  def forward(self, embedded):\n",
    "\n",
    "    embedded = embedded.permute(0, 2, 1)\n",
    "\n",
    "    conved_0 = F.relu(self.conv_0(embedded))\n",
    "    conved_1 = F.relu(self.conv_1(embedded))\n",
    "    conved_2 = F.relu(self.conv_2(embedded))\n",
    "\n",
    "    pooled_0 = F.max_pool1d(conved_0, conved_0.shape[2]).squeeze(2)\n",
    "    pooled_1 = F.max_pool1d(conved_1, conved_1.shape[2]).squeeze(2)\n",
    "    pooled_2 = F.max_pool1d(conved_2, conved_2.shape[2]).squeeze(2)\n",
    "\n",
    "    cat = self.dropout(torch.cat((pooled_0, pooled_1, pooled_2), dim = 1))\n",
    "\n",
    "    return F.softmax(self.fc(cat), dim=1)"
   ]
  },
  {
   "cell_type": "code",
   "execution_count": 53,
   "metadata": {},
   "outputs": [],
   "source": [
    "embedding_dim = 200\n",
    "n_filters = 90\n",
    "filter_sizes = [1, 2, 3]\n",
    "dropout = 0.2\n",
    "output_dim = 2\n",
    "learning_rate = 0.0002\n",
    "num_epochs = 3000"
   ]
  },
  {
   "cell_type": "code",
   "execution_count": 54,
   "metadata": {},
   "outputs": [],
   "source": [
    "device = 'cuda' if torch.cuda.is_available() else 'cpu'"
   ]
  },
  {
   "cell_type": "markdown",
   "metadata": {},
   "source": [
    "### 단순히 readmission만 한 경우"
   ]
  },
  {
   "cell_type": "code",
   "execution_count": 57,
   "metadata": {},
   "outputs": [
    {
     "data": {
      "text/html": [
       "Tracking run with wandb version 0.17.4"
      ],
      "text/plain": [
       "<IPython.core.display.HTML object>"
      ]
     },
     "metadata": {},
     "output_type": "display_data"
    },
    {
     "data": {
      "text/html": [
       "Run data is saved locally in <code>c:\\Users\\gangmin\\dahs\\project\\wandb\\run-20240709_123153-wclf18qg</code>"
      ],
      "text/plain": [
       "<IPython.core.display.HTML object>"
      ]
     },
     "metadata": {},
     "output_type": "display_data"
    },
    {
     "data": {
      "text/html": [
       "Syncing run <strong><a href='https://wandb.ai/kanovatio-Korea%20University7022/cnn_nlp/runs/wclf18qg' target=\"_blank\">only_readmission_1st_20000</a></strong> to <a href='https://wandb.ai/kanovatio-Korea%20University7022/cnn_nlp' target=\"_blank\">Weights & Biases</a> (<a href='https://wandb.me/run' target=\"_blank\">docs</a>)<br/>"
      ],
      "text/plain": [
       "<IPython.core.display.HTML object>"
      ]
     },
     "metadata": {},
     "output_type": "display_data"
    },
    {
     "data": {
      "text/html": [
       " View project at <a href='https://wandb.ai/kanovatio-Korea%20University7022/cnn_nlp' target=\"_blank\">https://wandb.ai/kanovatio-Korea%20University7022/cnn_nlp</a>"
      ],
      "text/plain": [
       "<IPython.core.display.HTML object>"
      ]
     },
     "metadata": {},
     "output_type": "display_data"
    },
    {
     "data": {
      "text/html": [
       " View run at <a href='https://wandb.ai/kanovatio-Korea%20University7022/cnn_nlp/runs/wclf18qg' target=\"_blank\">https://wandb.ai/kanovatio-Korea%20University7022/cnn_nlp/runs/wclf18qg</a>"
      ],
      "text/plain": [
       "<IPython.core.display.HTML object>"
      ]
     },
     "metadata": {},
     "output_type": "display_data"
    },
    {
     "name": "stderr",
     "output_type": "stream",
     "text": [
      "  0%|          | 0/3000 [00:00<?, ?it/s]c:\\Users\\gangmin\\AppData\\Local\\miniconda3\\envs\\medical\\lib\\site-packages\\torch\\nn\\modules\\conv.py:306: UserWarning: Plan failed with a cudnnException: CUDNN_BACKEND_EXECUTION_PLAN_DESCRIPTOR: cudnnFinalize Descriptor Failed cudnn_status: CUDNN_STATUS_NOT_SUPPORTED (Triggered internally at C:\\cb\\pytorch_1000000000000\\work\\aten\\src\\ATen\\native\\cudnn\\Conv_v8.cpp:919.)\n",
      "  return F.conv1d(input, weight, bias, self.stride,\n"
     ]
    },
    {
     "name": "stdout",
     "output_type": "stream",
     "text": [
      "Epoch 1, Train Loss: 0.6718515655322659, Test Loss : 0.642245020866394,  Accuracy: 0.6649350649350649, Precision: 0.6312849162011173, Recall: 0.6420454545454546, F1 Score: 0.6366197183098592\n"
     ]
    },
    {
     "name": "stderr",
     "output_type": "stream",
     "text": [
      "  0%|          | 1/3000 [01:13<61:09:45, 73.42s/it]"
     ]
    },
    {
     "name": "stdout",
     "output_type": "stream",
     "text": [
      "Epoch 2, Train Loss: 0.6355468136609014, Test Loss : 0.6257494139671326,  Accuracy: 0.638961038961039, Precision: 0.5687732342007435, Recall: 0.8693181818181818, F1 Score: 0.6876404494382022\n"
     ]
    },
    {
     "name": "stderr",
     "output_type": "stream",
     "text": [
      "  0%|          | 2/3000 [01:56<46:05:03, 55.34s/it]"
     ]
    },
    {
     "name": "stdout",
     "output_type": "stream",
     "text": [
      "Epoch 3, Train Loss: 0.6166470799655341, Test Loss : 0.6179393374919891,  Accuracy: 0.6545454545454545, Precision: 0.5811320754716981, Recall: 0.875, F1 Score: 0.6984126984126984\n"
     ]
    },
    {
     "name": "stderr",
     "output_type": "stream",
     "text": [
      "  0%|          | 3/3000 [02:37<40:37:31, 48.80s/it]"
     ]
    },
    {
     "name": "stdout",
     "output_type": "stream",
     "text": [
      "Epoch 4, Train Loss: 0.6048313739255724, Test Loss : 0.6077264308929443,  Accuracy: 0.6753246753246753, Precision: 0.6133333333333333, Recall: 0.7840909090909091, F1 Score: 0.6882793017456358\n"
     ]
    },
    {
     "name": "stderr",
     "output_type": "stream",
     "text": [
      "  0%|          | 4/3000 [03:04<33:40:06, 40.46s/it]"
     ]
    },
    {
     "name": "stdout",
     "output_type": "stream",
     "text": [
      "Epoch 5, Train Loss: 0.5938698389926629, Test Loss : 0.6040266418457031,  Accuracy: 0.6831168831168831, Precision: 0.6285714285714286, Recall: 0.75, F1 Score: 0.6839378238341969\n"
     ]
    },
    {
     "name": "stderr",
     "output_type": "stream",
     "text": [
      "  0%|          | 5/3000 [03:32<29:45:59, 35.78s/it]"
     ]
    },
    {
     "name": "stdout",
     "output_type": "stream",
     "text": [
      "Epoch 6, Train Loss: 0.5791271790758842, Test Loss : 0.6031780850887298,  Accuracy: 0.6753246753246753, Precision: 0.6268656716417911, Recall: 0.7159090909090909, F1 Score: 0.6684350132625996\n"
     ]
    },
    {
     "name": "stderr",
     "output_type": "stream",
     "text": [
      "  0%|          | 6/3000 [03:59<27:24:27, 32.96s/it]"
     ]
    },
    {
     "name": "stdout",
     "output_type": "stream",
     "text": [
      "Epoch 7, Train Loss: 0.5724016841647256, Test Loss : 0.5990850234031677,  Accuracy: 0.6909090909090909, Precision: 0.6266666666666667, Recall: 0.8011363636363636, F1 Score: 0.7032418952618454\n"
     ]
    },
    {
     "name": "stderr",
     "output_type": "stream",
     "text": [
      "  0%|          | 7/3000 [04:27<25:52:41, 31.13s/it]"
     ]
    },
    {
     "name": "stdout",
     "output_type": "stream",
     "text": [
      "Epoch 8, Train Loss: 0.5586760875534516, Test Loss : 0.6009025585651397,  Accuracy: 0.6935064935064935, Precision: 0.6106870229007634, Recall: 0.9090909090909091, F1 Score: 0.730593607305936\n"
     ]
    },
    {
     "name": "stderr",
     "output_type": "stream",
     "text": [
      "  0%|          | 8/3000 [04:54<24:54:07, 29.96s/it]"
     ]
    },
    {
     "name": "stdout",
     "output_type": "stream",
     "text": [
      "Epoch 9, Train Loss: 0.5565315459534422, Test Loss : 0.5988914632797241,  Accuracy: 0.6987012987012987, Precision: 0.6578947368421053, Recall: 0.7102272727272727, F1 Score: 0.6830601092896175\n"
     ]
    },
    {
     "name": "stderr",
     "output_type": "stream",
     "text": [
      "  0%|          | 9/3000 [05:22<24:16:13, 29.21s/it]"
     ]
    },
    {
     "name": "stdout",
     "output_type": "stream",
     "text": [
      "Epoch 10, Train Loss: 0.5470808290168815, Test Loss : 0.5970643901824951,  Accuracy: 0.6883116883116883, Precision: 0.6060606060606061, Recall: 0.9090909090909091, F1 Score: 0.7272727272727273\n"
     ]
    },
    {
     "name": "stderr",
     "output_type": "stream",
     "text": [
      "  0%|          | 10/3000 [05:49<23:54:02, 28.78s/it]"
     ]
    },
    {
     "name": "stdout",
     "output_type": "stream",
     "text": [
      "Epoch 11, Train Loss: 0.533733350024763, Test Loss : 0.591816155910492,  Accuracy: 0.7116883116883117, Precision: 0.6431718061674009, Recall: 0.8295454545454546, F1 Score: 0.7245657568238213\n"
     ]
    },
    {
     "name": "stderr",
     "output_type": "stream",
     "text": [
      "  0%|          | 11/3000 [06:17<23:36:19, 28.43s/it]"
     ]
    },
    {
     "name": "stdout",
     "output_type": "stream",
     "text": [
      "Epoch 12, Train Loss: 0.5262932125608034, Test Loss : 0.595165057182312,  Accuracy: 0.6987012987012987, Precision: 0.6136363636363636, Recall: 0.9204545454545454, F1 Score: 0.7363636363636363\n"
     ]
    },
    {
     "name": "stderr",
     "output_type": "stream",
     "text": [
      "  0%|          | 12/3000 [06:45<23:29:55, 28.31s/it]"
     ]
    },
    {
     "name": "stdout",
     "output_type": "stream",
     "text": [
      "Epoch 13, Train Loss: 0.5199856242599443, Test Loss : 0.5910062634944916,  Accuracy: 0.7116883116883117, Precision: 0.6444444444444445, Recall: 0.8238636363636364, F1 Score: 0.7231920199501246\n"
     ]
    },
    {
     "name": "stderr",
     "output_type": "stream",
     "text": [
      "  0%|          | 13/3000 [07:14<23:33:08, 28.39s/it]"
     ]
    },
    {
     "name": "stdout",
     "output_type": "stream",
     "text": [
      "Epoch 14, Train Loss: 0.510879769749234, Test Loss : 0.591003201007843,  Accuracy: 0.7116883116883117, Precision: 0.6701570680628273, Recall: 0.7272727272727273, F1 Score: 0.6975476839237057\n"
     ]
    },
    {
     "name": "stderr",
     "output_type": "stream",
     "text": [
      "  0%|          | 14/3000 [07:42<23:32:16, 28.38s/it]"
     ]
    },
    {
     "name": "stdout",
     "output_type": "stream",
     "text": [
      "Epoch 15, Train Loss: 0.5003221826520308, Test Loss : 0.5888497877120972,  Accuracy: 0.7064935064935065, Precision: 0.6245059288537549, Recall: 0.8977272727272727, F1 Score: 0.7365967365967365\n"
     ]
    },
    {
     "name": "stderr",
     "output_type": "stream",
     "text": [
      "  0%|          | 15/3000 [08:10<23:18:48, 28.12s/it]"
     ]
    },
    {
     "name": "stdout",
     "output_type": "stream",
     "text": [
      "Epoch 16, Train Loss: 0.4942150389900384, Test Loss : 0.5853653311729431,  Accuracy: 0.7272727272727273, Precision: 0.6577777777777778, Recall: 0.8409090909090909, F1 Score: 0.7381546134663342\n"
     ]
    },
    {
     "name": "stderr",
     "output_type": "stream",
     "text": [
      "  1%|          | 16/3000 [08:37<23:11:34, 27.98s/it]"
     ]
    },
    {
     "name": "stdout",
     "output_type": "stream",
     "text": [
      "Epoch 17, Train Loss: 0.49318079075692156, Test Loss : 0.5864282071590423,  Accuracy: 0.7168831168831169, Precision: 0.6618357487922706, Recall: 0.7784090909090909, F1 Score: 0.7154046997389034\n"
     ]
    },
    {
     "name": "stderr",
     "output_type": "stream",
     "text": [
      "  1%|          | 17/3000 [09:05<23:05:23, 27.87s/it]"
     ]
    },
    {
     "name": "stdout",
     "output_type": "stream",
     "text": [
      "Epoch 18, Train Loss: 0.4838149707945059, Test Loss : 0.5869072091579437,  Accuracy: 0.7116883116883117, Precision: 0.6326530612244898, Recall: 0.8806818181818182, F1 Score: 0.7363420427553443\n"
     ]
    },
    {
     "name": "stderr",
     "output_type": "stream",
     "text": [
      "  1%|          | 18/3000 [09:33<23:03:08, 27.83s/it]"
     ]
    },
    {
     "name": "stdout",
     "output_type": "stream",
     "text": [
      "Epoch 19, Train Loss: 0.47727398302483504, Test Loss : 0.5910935747623444,  Accuracy: 0.6987012987012987, Precision: 0.6578947368421053, Recall: 0.7102272727272727, F1 Score: 0.6830601092896175\n"
     ]
    },
    {
     "name": "stderr",
     "output_type": "stream",
     "text": [
      "  1%|          | 19/3000 [10:00<23:01:19, 27.80s/it]"
     ]
    },
    {
     "name": "stdout",
     "output_type": "stream",
     "text": [
      "Epoch 20, Train Loss: 0.47407187504250786, Test Loss : 0.5866075491905213,  Accuracy: 0.7116883116883117, Precision: 0.6666666666666666, Recall: 0.7386363636363636, F1 Score: 0.7008086253369272\n"
     ]
    },
    {
     "name": "stderr",
     "output_type": "stream",
     "text": [
      "  1%|          | 20/3000 [10:28<22:59:39, 27.78s/it]"
     ]
    },
    {
     "name": "stdout",
     "output_type": "stream",
     "text": [
      "Early stopping 기능이 21에서 실행되었습니다.\n"
     ]
    },
    {
     "name": "stderr",
     "output_type": "stream",
     "text": [
      "  1%|          | 20/3000 [10:56<27:09:59, 32.82s/it]\n"
     ]
    },
    {
     "name": "stdout",
     "output_type": "stream",
     "text": [
      "모델 학습 종료\n"
     ]
    }
   ],
   "source": [
    "model = CNN(embedding_dim, n_filters, filter_sizes, dropout, output_dim).to(device)\n",
    "criterion = nn.CrossEntropyLoss()\n",
    "optimizer = optim.Adam(model.parameters(), lr=learning_rate)\n",
    "\n",
    "best_loss = np.inf # 초기 설정\n",
    "patience = 5\n",
    "patience_counter = 0\n",
    "\n",
    "for epoch in tqdm(range(num_epochs)):\n",
    "    model.train()\n",
    "    \n",
    "    train_loss = 0.0\n",
    "\n",
    "    for inputs, labels in train_dataloader :\n",
    "        inputs, labels = inputs.to(device), labels.to(device)\n",
    "        optimizer.zero_grad()\n",
    "\n",
    "        train_predictions = model(inputs)\n",
    "\n",
    "        loss = criterion(train_predictions, labels.long())\n",
    "        \n",
    "        loss.backward()\n",
    "        optimizer.step()\n",
    "\n",
    "        train_loss += loss.item()\n",
    "    \n",
    "    model.eval()\n",
    "    with torch.no_grad() : \n",
    "        all_test_labels = []\n",
    "        all_test_predictions = []\n",
    "        test_loss = 0.0\n",
    "\n",
    "        for inputs, labels in test_dataloader : \n",
    "            inputs, labels = inputs.to(device), labels.to(device)\n",
    "            test_predictions = model(inputs)\n",
    "\n",
    "            loss = criterion(test_predictions, labels.long())\n",
    "            test_loss += loss.item()\n",
    "\n",
    "            all_test_labels.extend(labels.cpu().numpy())\n",
    "            all_test_predictions.extend(torch.argmax(test_predictions, dim=1).cpu().numpy())\n",
    "    \n",
    "    train_loss /= len(train_dataloader)\n",
    "    test_loss /= len(test_dataloader)\n",
    "\n",
    "    if test_loss < best_loss:\n",
    "        best_loss = test_loss\n",
    "        patience_counter = 0\n",
    "\n",
    "    else :\n",
    "        patience_counter += 1\n",
    "        if patience_counter >= patience:\n",
    "            print(f'Early stopping 기능이 {epoch+1}에서 실행되었습니다.')\n",
    "            break\n",
    "\n",
    "    all_labels = np.array(all_test_labels)\n",
    "    all_predictions = np.array(all_test_predictions)\n",
    "    \n",
    "    accuracy = accuracy_score(all_test_labels, all_test_predictions)\n",
    "    precision = precision_score(all_test_labels, all_test_predictions, average = 'binary')\n",
    "    recall = recall_score(all_test_labels, all_test_predictions, average = 'binary')\n",
    "    f1 = f1_score(all_test_labels, all_test_predictions, average = 'binary')\n",
    "    \n",
    "    print(f'Epoch {epoch+1}, Train Loss: {train_loss}, Test Loss : {test_loss},  Accuracy: {accuracy}, Precision: {precision}, Recall: {recall}, F1 Score: {f1}')\n",
    "\n",
    "print(\"모델 학습 종료\")"
   ]
  },
  {
   "cell_type": "code",
   "execution_count": 58,
   "metadata": {},
   "outputs": [
    {
     "name": "stderr",
     "output_type": "stream",
     "text": [
      "100%|██████████| 276/276 [00:42<00:00,  6.55it/s]\n",
      "100%|██████████| 109/109 [00:16<00:00,  6.66it/s]\n"
     ]
    },
    {
     "name": "stdout",
     "output_type": "stream",
     "text": [
      "단순 재입원 환자 Chi-square Feature Anaylsis - Word: impella, Chi2: 51.52622510126866, p-value: 7.064706041556759e-13\n",
      "단순 재입원 환자 Chi-square Feature Anaylsis - Word: expired, Chi2: 47.995152578728806, p-value: 4.272742024520224e-12\n",
      "단순 재입원 환자 Chi-square Feature Anaylsis - Word: copd, Chi2: 45.38882046167588, p-value: 1.615539011728561e-11\n",
      "단순 재입원 환자 Chi-square Feature Anaylsis - Word: malaise, Chi2: 42.5766931608721, p-value: 6.796440902868595e-11\n",
      "단순 재입원 환자 Chi-square Feature Anaylsis - Word: pain, Chi2: 39.93337049689079, p-value: 2.627752400369123e-10\n",
      "단순 재입원 환자 Chi-square Feature Anaylsis - Word: ms, Chi2: 34.82467804714551, p-value: 3.607713850643471e-09\n",
      "단순 재입원 환자 Chi-square Feature Anaylsis - Word: wheezing, Chi2: 34.66814617712602, p-value: 3.909770101914784e-09\n",
      "단순 재입원 환자 Chi-square Feature Anaylsis - Word: take, Chi2: 34.3832685331659, p-value: 4.525973812269287e-09\n",
      "단순 재입원 환자 Chi-square Feature Anaylsis - Word: puncture, Chi2: 30.861886667319027, p-value: 2.7705989558490992e-08\n",
      "단순 재입원 환자 Chi-square Feature Anaylsis - Word: carotid, Chi2: 30.71108129332426, p-value: 2.9945002842713326e-08\n",
      "단순 재입원 환자 Chi-square Feature Anaylsis - Word: metoprolol, Chi2: 29.968955628997595, p-value: 4.3901903375349056e-08\n",
      "단순 재입원 환자 Chi-square Feature Anaylsis - Word: neb, Chi2: 28.418263009335135, p-value: 9.773892621580926e-08\n",
      "단순 재입원 환자 Chi-square Feature Anaylsis - Word: follow, Chi2: 28.296704338955582, p-value: 1.0407302205866559e-07\n",
      "단순 재입원 환자 Chi-square Feature Anaylsis - Word: transplant, Chi2: 27.672229933825616, p-value: 1.4371102365912053e-07\n",
      "단순 재입원 환자 Chi-square Feature Anaylsis - Word: citalopram, Chi2: 27.24242275976928, p-value: 1.7947711617297674e-07\n",
      "단순 재입원 환자 Chi-square Feature Anaylsis - Word: hd, Chi2: 26.996495842387716, p-value: 2.038246352957472e-07\n",
      "단순 재입원 환자 Chi-square Feature Anaylsis - Word: daily, Chi2: 25.68349005595362, p-value: 4.0225369687136106e-07\n",
      "단순 재입원 환자 Chi-square Feature Anaylsis - Word: gain, Chi2: 24.833483293560278, p-value: 6.250229221882971e-07\n",
      "단순 재입원 환자 Chi-square Feature Anaylsis - Word: discoloration, Chi2: 24.346591773069136, p-value: 8.046899002425923e-07\n",
      "단순 재입원 환자 Chi-square Feature Anaylsis - Word: lactate, Chi2: 24.19250190219783, p-value: 8.71709988479633e-07\n"
     ]
    }
   ],
   "source": [
    "vector_to_word = {tuple(word2vec[word]): word for word in word2vec.index_to_key}\n",
    "\n",
    "def get_word_from_vector(vector, vector_to_word):\n",
    "    vector_tuple = tuple(vector)\n",
    "    return vector_to_word.get(vector_tuple, \"없음\")\n",
    "\n",
    "correct_indices = np.where(np.array(all_test_labels) == np.array(all_test_predictions))[0]\n",
    "incorrect_indices = np.where(np.array(all_test_labels) != np.array(all_test_predictions))[0]\n",
    "\n",
    "positive_words = []\n",
    "negative_words = []\n",
    "exclude_words = {\".\", \"없음\"}\n",
    "\n",
    "for idx in tqdm(correct_indices):\n",
    "    embedding_vectors = test_dataloader.dataset[idx][0].cpu().numpy()\n",
    "    for vector in embedding_vectors : \n",
    "        words = get_word_from_vector(vector, vector_to_word)\n",
    "        positive_words.append(words)\n",
    "\n",
    "for idx in tqdm(incorrect_indices):\n",
    "    embedding_vectors = test_dataloader.dataset[idx][0].cpu().numpy()\n",
    "    for vector in embedding_vectors : \n",
    "        words = get_word_from_vector(vector, vector_to_word)\n",
    "        negative_words.append(words)\n",
    "\n",
    "filtered_positive_words = [word for word in positive_words if word not in exclude_words]\n",
    "filtered_negative_words = [word for word in negative_words if word not in exclude_words]\n",
    "\n",
    "positive_word_counts = Counter(filtered_positive_words)\n",
    "negative_word_counts = Counter(filtered_negative_words)\n",
    "\n",
    "chi2_results = {}\n",
    "all_words = set(filtered_positive_words).union(set(filtered_negative_words))\n",
    "\n",
    "for word in all_words:\n",
    "    pos_count = positive_word_counts[word]\n",
    "    neg_count = negative_word_counts[word]\n",
    "    pos_total = len(filtered_positive_words)\n",
    "    neg_total = len(filtered_negative_words)\n",
    "    \n",
    "    observed = [[pos_count, pos_total - pos_count],\n",
    "                [neg_count, neg_total - neg_count]]\n",
    "    \n",
    "    chi2, p, _, _ = chi2_contingency(observed)\n",
    "    chi2_results[word] = (chi2, p)\n",
    "\n",
    "sorted_chi2_results = sorted(chi2_results.items(), key=lambda item: item[1][0], reverse=True)[:20]\n",
    "\n",
    "for word, (chi2, p) in sorted_chi2_results :\n",
    "    print(f\"단순 재입원 환자 Chi-square Feature Anaylsis - Word: {word}, Chi2: {chi2}, p-value: {p}\")"
   ]
  },
  {
   "cell_type": "markdown",
   "metadata": {},
   "source": [
    "### 30일 이내 Readmission"
   ]
  },
  {
   "cell_type": "code",
   "execution_count": 59,
   "metadata": {},
   "outputs": [
    {
     "data": {
      "text/html": [
       "Finishing last run (ID:wclf18qg) before initializing another..."
      ],
      "text/plain": [
       "<IPython.core.display.HTML object>"
      ]
     },
     "metadata": {},
     "output_type": "display_data"
    },
    {
     "data": {
      "application/vnd.jupyter.widget-view+json": {
       "model_id": "e24fc76794ed4137961de21624bc4d27",
       "version_major": 2,
       "version_minor": 0
      },
      "text/plain": [
       "VBox(children=(Label(value='0.001 MB of 0.001 MB uploaded\\r'), FloatProgress(value=1.0, max=1.0)))"
      ]
     },
     "metadata": {},
     "output_type": "display_data"
    },
    {
     "data": {
      "text/html": [
       "<style>\n",
       "    table.wandb td:nth-child(1) { padding: 0 10px; text-align: left ; width: auto;} td:nth-child(2) {text-align: left ; width: 100%}\n",
       "    .wandb-row { display: flex; flex-direction: row; flex-wrap: wrap; justify-content: flex-start; width: 100% }\n",
       "    .wandb-col { display: flex; flex-direction: column; flex-basis: 100%; flex: 1; padding: 10px; }\n",
       "    </style>\n",
       "<div class=\"wandb-row\"><div class=\"wandb-col\"><h3>Run history:</h3><br/><table class=\"wandb\"><tr><td>Accuracy</td><td>▃▁▂▄▅▄▅▅▆▅▇▆▇▇▆█▇▇▆▇</td></tr><tr><td>F1 Score</td><td>▁▅▅▅▄▃▆▇▄▇▇█▇▅██▆█▄▅</td></tr><tr><td>Precision</td><td>▅▁▂▄▅▅▅▄▇▄▆▄▆█▅▇▇▅▇█</td></tr><tr><td>Recall</td><td>▁▇▇▅▄▃▅█▃█▆█▆▃▇▆▄▇▃▃</td></tr><tr><td>Test loss</td><td>█▆▅▄▃▃▃▃▃▂▂▂▂▂▁▁▁▁▂▁</td></tr><tr><td>Train loss</td><td>█▇▆▆▅▅▄▄▄▄▃▃▃▂▂▂▂▁▁▁</td></tr></table><br/></div><div class=\"wandb-col\"><h3>Run summary:</h3><br/><table class=\"wandb\"><tr><td>Accuracy</td><td>0.71169</td></tr><tr><td>F1 Score</td><td>0.70081</td></tr><tr><td>Precision</td><td>0.66667</td></tr><tr><td>Recall</td><td>0.73864</td></tr><tr><td>Test loss</td><td>0.58661</td></tr><tr><td>Train loss</td><td>0.47407</td></tr></table><br/></div></div>"
      ],
      "text/plain": [
       "<IPython.core.display.HTML object>"
      ]
     },
     "metadata": {},
     "output_type": "display_data"
    },
    {
     "data": {
      "text/html": [
       " View run <strong style=\"color:#cdcd00\">only_readmission_1st_20000</strong> at: <a href='https://wandb.ai/kanovatio-Korea%20University7022/cnn_nlp/runs/wclf18qg' target=\"_blank\">https://wandb.ai/kanovatio-Korea%20University7022/cnn_nlp/runs/wclf18qg</a><br/> View project at: <a href='https://wandb.ai/kanovatio-Korea%20University7022/cnn_nlp' target=\"_blank\">https://wandb.ai/kanovatio-Korea%20University7022/cnn_nlp</a><br/>Synced 5 W&B file(s), 0 media file(s), 0 artifact file(s) and 0 other file(s)"
      ],
      "text/plain": [
       "<IPython.core.display.HTML object>"
      ]
     },
     "metadata": {},
     "output_type": "display_data"
    },
    {
     "data": {
      "text/html": [
       "Find logs at: <code>.\\wandb\\run-20240709_123153-wclf18qg\\logs</code>"
      ],
      "text/plain": [
       "<IPython.core.display.HTML object>"
      ]
     },
     "metadata": {},
     "output_type": "display_data"
    },
    {
     "data": {
      "text/html": [
       "The new W&B backend becomes opt-out in version 0.18.0; try it out with `wandb.require(\"core\")`! See https://wandb.me/wandb-core for more information."
      ],
      "text/plain": [
       "<IPython.core.display.HTML object>"
      ]
     },
     "metadata": {},
     "output_type": "display_data"
    },
    {
     "data": {
      "text/html": [
       "Successfully finished last run (ID:wclf18qg). Initializing new run:<br/>"
      ],
      "text/plain": [
       "<IPython.core.display.HTML object>"
      ]
     },
     "metadata": {},
     "output_type": "display_data"
    },
    {
     "data": {
      "application/vnd.jupyter.widget-view+json": {
       "model_id": "5124e99c68fc42df884b38bc5e3bd8c6",
       "version_major": 2,
       "version_minor": 0
      },
      "text/plain": [
       "VBox(children=(Label(value='Waiting for wandb.init()...\\r'), FloatProgress(value=0.011111111111111112, max=1.0…"
      ]
     },
     "metadata": {},
     "output_type": "display_data"
    },
    {
     "data": {
      "text/html": [
       "Tracking run with wandb version 0.17.4"
      ],
      "text/plain": [
       "<IPython.core.display.HTML object>"
      ]
     },
     "metadata": {},
     "output_type": "display_data"
    },
    {
     "data": {
      "text/html": [
       "Run data is saved locally in <code>c:\\Users\\gangmin\\dahs\\project\\wandb\\run-20240709_124508-37x6m32c</code>"
      ],
      "text/plain": [
       "<IPython.core.display.HTML object>"
      ]
     },
     "metadata": {},
     "output_type": "display_data"
    },
    {
     "data": {
      "text/html": [
       "Syncing run <strong><a href='https://wandb.ai/kanovatio-Korea%20University7022/cnn_nlp/runs/37x6m32c' target=\"_blank\">30days_readmission_1st_20000</a></strong> to <a href='https://wandb.ai/kanovatio-Korea%20University7022/cnn_nlp' target=\"_blank\">Weights & Biases</a> (<a href='https://wandb.me/run' target=\"_blank\">docs</a>)<br/>"
      ],
      "text/plain": [
       "<IPython.core.display.HTML object>"
      ]
     },
     "metadata": {},
     "output_type": "display_data"
    },
    {
     "data": {
      "text/html": [
       " View project at <a href='https://wandb.ai/kanovatio-Korea%20University7022/cnn_nlp' target=\"_blank\">https://wandb.ai/kanovatio-Korea%20University7022/cnn_nlp</a>"
      ],
      "text/plain": [
       "<IPython.core.display.HTML object>"
      ]
     },
     "metadata": {},
     "output_type": "display_data"
    },
    {
     "data": {
      "text/html": [
       " View run at <a href='https://wandb.ai/kanovatio-Korea%20University7022/cnn_nlp/runs/37x6m32c' target=\"_blank\">https://wandb.ai/kanovatio-Korea%20University7022/cnn_nlp/runs/37x6m32c</a>"
      ],
      "text/plain": [
       "<IPython.core.display.HTML object>"
      ]
     },
     "metadata": {},
     "output_type": "display_data"
    },
    {
     "name": "stderr",
     "output_type": "stream",
     "text": [
      "  0%|          | 0/3000 [00:00<?, ?it/s]c:\\Users\\gangmin\\AppData\\Local\\miniconda3\\envs\\medical\\lib\\site-packages\\torch\\nn\\modules\\conv.py:306: UserWarning: Plan failed with a cudnnException: CUDNN_BACKEND_EXECUTION_PLAN_DESCRIPTOR: cudnnFinalize Descriptor Failed cudnn_status: CUDNN_STATUS_NOT_SUPPORTED (Triggered internally at C:\\cb\\pytorch_1000000000000\\work\\aten\\src\\ATen\\native\\cudnn\\Conv_v8.cpp:919.)\n",
      "  return F.conv1d(input, weight, bias, self.stride,\n"
     ]
    },
    {
     "name": "stdout",
     "output_type": "stream",
     "text": [
      "Epoch 1, Train Loss: 0.6931528145074844, Test Loss : 0.6890684068202972,  Accuracy: 0.5, Precision: 0.0, Recall: 0.0, F1 Score: 0.0\n"
     ]
    },
    {
     "name": "stderr",
     "output_type": "stream",
     "text": [
      "  0%|          | 1/3000 [00:18<15:07:51, 18.16s/it]"
     ]
    },
    {
     "name": "stdout",
     "output_type": "stream",
     "text": [
      "Epoch 2, Train Loss: 0.6811825555562973, Test Loss : 0.6812518934408823,  Accuracy: 0.6235955056179775, Precision: 0.5945945945945946, Recall: 0.75, F1 Score: 0.6633165829145727\n"
     ]
    },
    {
     "name": "stderr",
     "output_type": "stream",
     "text": [
      "  0%|          | 2/3000 [00:31<12:34:29, 15.10s/it]"
     ]
    },
    {
     "name": "stdout",
     "output_type": "stream",
     "text": [
      "Epoch 3, Train Loss: 0.6674493536353111, Test Loss : 0.6794674644867579,  Accuracy: 0.5561797752808989, Precision: 0.5283018867924528, Recall: 0.9545454545454546, F1 Score: 0.6801619433198381\n"
     ]
    },
    {
     "name": "stderr",
     "output_type": "stream",
     "text": [
      "  0%|          | 3/3000 [00:43<11:40:30, 14.02s/it]"
     ]
    },
    {
     "name": "stdout",
     "output_type": "stream",
     "text": [
      "Epoch 4, Train Loss: 0.6599271216988564, Test Loss : 0.6692431767781576,  Accuracy: 0.6123595505617978, Precision: 0.5904761904761905, Recall: 0.7045454545454546, F1 Score: 0.6424870466321243\n"
     ]
    },
    {
     "name": "stderr",
     "output_type": "stream",
     "text": [
      "  0%|          | 4/3000 [00:56<11:15:26, 13.53s/it]"
     ]
    },
    {
     "name": "stdout",
     "output_type": "stream",
     "text": [
      "Epoch 5, Train Loss: 0.6436101284623146, Test Loss : 0.6694747706254324,  Accuracy: 0.5617977528089888, Precision: 0.6388888888888888, Recall: 0.26136363636363635, F1 Score: 0.3709677419354838\n"
     ]
    },
    {
     "name": "stderr",
     "output_type": "stream",
     "text": [
      "  0%|          | 5/3000 [01:09<11:01:29, 13.25s/it]"
     ]
    },
    {
     "name": "stdout",
     "output_type": "stream",
     "text": [
      "Epoch 6, Train Loss: 0.6340027981996537, Test Loss : 0.6675437887509664,  Accuracy: 0.5898876404494382, Precision: 0.6829268292682927, Recall: 0.3181818181818182, F1 Score: 0.43410852713178294\n"
     ]
    },
    {
     "name": "stderr",
     "output_type": "stream",
     "text": [
      "  0%|          | 6/3000 [01:22<10:51:48, 13.06s/it]"
     ]
    },
    {
     "name": "stdout",
     "output_type": "stream",
     "text": [
      "Epoch 7, Train Loss: 0.6216226014494896, Test Loss : 0.6582017888625463,  Accuracy: 0.6404494382022472, Precision: 0.6304347826086957, Recall: 0.6590909090909091, F1 Score: 0.6444444444444444\n"
     ]
    },
    {
     "name": "stderr",
     "output_type": "stream",
     "text": [
      "  0%|          | 7/3000 [01:34<10:46:33, 12.96s/it]"
     ]
    },
    {
     "name": "stdout",
     "output_type": "stream",
     "text": [
      "Epoch 8, Train Loss: 0.6155771872401238, Test Loss : 0.6550833135843277,  Accuracy: 0.6348314606741573, Precision: 0.6575342465753424, Recall: 0.5454545454545454, F1 Score: 0.5962732919254657\n"
     ]
    },
    {
     "name": "stderr",
     "output_type": "stream",
     "text": [
      "  0%|          | 8/3000 [01:47<10:43:41, 12.91s/it]"
     ]
    },
    {
     "name": "stdout",
     "output_type": "stream",
     "text": [
      "Epoch 9, Train Loss: 0.6015823899209499, Test Loss : 0.6591647416353226,  Accuracy: 0.5842696629213483, Precision: 0.547945205479452, Recall: 0.9090909090909091, F1 Score: 0.6837606837606837\n"
     ]
    },
    {
     "name": "stderr",
     "output_type": "stream",
     "text": [
      "  0%|          | 9/3000 [02:00<10:39:58, 12.84s/it]"
     ]
    },
    {
     "name": "stdout",
     "output_type": "stream",
     "text": [
      "Epoch 10, Train Loss: 0.5867339931428432, Test Loss : 0.6539326558510462,  Accuracy: 0.6123595505617978, Precision: 0.6557377049180327, Recall: 0.45454545454545453, F1 Score: 0.5369127516778524\n"
     ]
    },
    {
     "name": "stderr",
     "output_type": "stream",
     "text": [
      "  0%|          | 10/3000 [02:13<10:38:13, 12.81s/it]"
     ]
    },
    {
     "name": "stdout",
     "output_type": "stream",
     "text": [
      "Epoch 11, Train Loss: 0.578752840012312, Test Loss : 0.6495296458403269,  Accuracy: 0.6067415730337079, Precision: 0.575, Recall: 0.7840909090909091, F1 Score: 0.6634615384615384\n"
     ]
    },
    {
     "name": "stderr",
     "output_type": "stream",
     "text": [
      "  0%|          | 11/3000 [02:25<10:36:33, 12.78s/it]"
     ]
    },
    {
     "name": "stdout",
     "output_type": "stream",
     "text": [
      "Epoch 12, Train Loss: 0.5645960871875286, Test Loss : 0.6456436912218729,  Accuracy: 0.6292134831460674, Precision: 0.6018518518518519, Recall: 0.7386363636363636, F1 Score: 0.663265306122449\n"
     ]
    },
    {
     "name": "stderr",
     "output_type": "stream",
     "text": [
      "  0%|          | 12/3000 [02:38<10:36:40, 12.78s/it]"
     ]
    },
    {
     "name": "stdout",
     "output_type": "stream",
     "text": [
      "Epoch 13, Train Loss: 0.5545532323420048, Test Loss : 0.6462490459283193,  Accuracy: 0.6292134831460674, Precision: 0.6486486486486487, Recall: 0.5454545454545454, F1 Score: 0.5925925925925926\n"
     ]
    },
    {
     "name": "stderr",
     "output_type": "stream",
     "text": [
      "  0%|          | 13/3000 [02:51<10:37:02, 12.80s/it]"
     ]
    },
    {
     "name": "stdout",
     "output_type": "stream",
     "text": [
      "Epoch 14, Train Loss: 0.545673212558031, Test Loss : 0.6437655737002691,  Accuracy: 0.6404494382022472, Precision: 0.6132075471698113, Recall: 0.7386363636363636, F1 Score: 0.6701030927835051\n"
     ]
    },
    {
     "name": "stderr",
     "output_type": "stream",
     "text": [
      "  0%|          | 14/3000 [03:04<10:35:43, 12.77s/it]"
     ]
    },
    {
     "name": "stdout",
     "output_type": "stream",
     "text": [
      "Epoch 15, Train Loss: 0.532528159469366, Test Loss : 0.6444281389315923,  Accuracy: 0.6179775280898876, Precision: 0.6351351351351351, Recall: 0.5340909090909091, F1 Score: 0.5802469135802468\n"
     ]
    },
    {
     "name": "stderr",
     "output_type": "stream",
     "text": [
      "  0%|          | 15/3000 [03:16<10:33:23, 12.73s/it]"
     ]
    },
    {
     "name": "stdout",
     "output_type": "stream",
     "text": [
      "Epoch 16, Train Loss: 0.5233469368517398, Test Loss : 0.6403903712828954,  Accuracy: 0.6460674157303371, Precision: 0.6506024096385542, Recall: 0.6136363636363636, F1 Score: 0.631578947368421\n"
     ]
    },
    {
     "name": "stderr",
     "output_type": "stream",
     "text": [
      "  1%|          | 16/3000 [03:29<10:32:44, 12.72s/it]"
     ]
    },
    {
     "name": "stdout",
     "output_type": "stream",
     "text": [
      "Epoch 17, Train Loss: 0.5122062231600285, Test Loss : 0.6467373271783193,  Accuracy: 0.6179775280898876, Precision: 0.65625, Recall: 0.4772727272727273, F1 Score: 0.5526315789473685\n"
     ]
    },
    {
     "name": "stderr",
     "output_type": "stream",
     "text": [
      "  1%|          | 17/3000 [03:42<10:32:12, 12.72s/it]"
     ]
    },
    {
     "name": "stdout",
     "output_type": "stream",
     "text": [
      "Epoch 18, Train Loss: 0.49951554119586944, Test Loss : 0.6411334524552027,  Accuracy: 0.6460674157303371, Precision: 0.6190476190476191, Recall: 0.7386363636363636, F1 Score: 0.6735751295336787\n"
     ]
    },
    {
     "name": "stderr",
     "output_type": "stream",
     "text": [
      "  1%|          | 18/3000 [03:54<10:31:44, 12.71s/it]"
     ]
    },
    {
     "name": "stdout",
     "output_type": "stream",
     "text": [
      "Epoch 19, Train Loss: 0.4988689522445202, Test Loss : 0.6392611712217331,  Accuracy: 0.6573033707865169, Precision: 0.6483516483516484, Recall: 0.6704545454545454, F1 Score: 0.6592178770949721\n"
     ]
    },
    {
     "name": "stderr",
     "output_type": "stream",
     "text": [
      "  1%|          | 19/3000 [04:07<10:32:36, 12.73s/it]"
     ]
    },
    {
     "name": "stdout",
     "output_type": "stream",
     "text": [
      "Epoch 20, Train Loss: 0.4850210615992546, Test Loss : 0.6441791007916132,  Accuracy: 0.601123595505618, Precision: 0.5714285714285714, Recall: 0.7727272727272727, F1 Score: 0.6570048309178744\n"
     ]
    },
    {
     "name": "stderr",
     "output_type": "stream",
     "text": [
      "  1%|          | 20/3000 [04:20<10:33:51, 12.76s/it]"
     ]
    },
    {
     "name": "stdout",
     "output_type": "stream",
     "text": [
      "Epoch 21, Train Loss: 0.4783703704178333, Test Loss : 0.6390364716450373,  Accuracy: 0.6404494382022472, Precision: 0.6538461538461539, Recall: 0.5795454545454546, F1 Score: 0.6144578313253013\n"
     ]
    },
    {
     "name": "stderr",
     "output_type": "stream",
     "text": [
      "  1%|          | 21/3000 [04:33<10:32:59, 12.75s/it]"
     ]
    },
    {
     "name": "stdout",
     "output_type": "stream",
     "text": [
      "Epoch 22, Train Loss: 0.468686513453722, Test Loss : 0.6381220916906992,  Accuracy: 0.651685393258427, Precision: 0.625, Recall: 0.7386363636363636, F1 Score: 0.6770833333333333\n"
     ]
    },
    {
     "name": "stderr",
     "output_type": "stream",
     "text": [
      "  1%|          | 22/3000 [04:45<10:31:31, 12.72s/it]"
     ]
    },
    {
     "name": "stdout",
     "output_type": "stream",
     "text": [
      "Epoch 23, Train Loss: 0.45906116351485254, Test Loss : 0.6392822364966074,  Accuracy: 0.6629213483146067, Precision: 0.64, Recall: 0.7272727272727273, F1 Score: 0.6808510638297872\n"
     ]
    },
    {
     "name": "stderr",
     "output_type": "stream",
     "text": [
      "  1%|          | 23/3000 [04:58<10:31:37, 12.73s/it]"
     ]
    },
    {
     "name": "stdout",
     "output_type": "stream",
     "text": [
      "Epoch 24, Train Loss: 0.45448625266551973, Test Loss : 0.6385059108336767,  Accuracy: 0.6573033707865169, Precision: 0.6626506024096386, Recall: 0.625, F1 Score: 0.6432748538011697\n"
     ]
    },
    {
     "name": "stderr",
     "output_type": "stream",
     "text": [
      "  1%|          | 24/3000 [05:11<10:31:12, 12.73s/it]"
     ]
    },
    {
     "name": "stdout",
     "output_type": "stream",
     "text": [
      "Epoch 25, Train Loss: 0.45092905893921853, Test Loss : 0.6374810487031937,  Accuracy: 0.6348314606741573, Precision: 0.6263736263736264, Recall: 0.6477272727272727, F1 Score: 0.6368715083798883\n"
     ]
    },
    {
     "name": "stderr",
     "output_type": "stream",
     "text": [
      "  1%|          | 25/3000 [05:24<10:32:31, 12.76s/it]"
     ]
    },
    {
     "name": "stdout",
     "output_type": "stream",
     "text": [
      "Epoch 26, Train Loss: 0.4444343896210194, Test Loss : 0.6370650430520376,  Accuracy: 0.6573033707865169, Precision: 0.6421052631578947, Recall: 0.6931818181818182, F1 Score: 0.6666666666666667\n"
     ]
    },
    {
     "name": "stderr",
     "output_type": "stream",
     "text": [
      "  1%|          | 26/3000 [05:36<10:31:35, 12.74s/it]"
     ]
    },
    {
     "name": "stdout",
     "output_type": "stream",
     "text": [
      "Epoch 27, Train Loss: 0.4374312192201614, Test Loss : 0.6461252917846044,  Accuracy: 0.601123595505618, Precision: 0.6491228070175439, Recall: 0.42045454545454547, F1 Score: 0.510344827586207\n"
     ]
    },
    {
     "name": "stderr",
     "output_type": "stream",
     "text": [
      "  1%|          | 27/3000 [05:49<10:31:02, 12.74s/it]"
     ]
    },
    {
     "name": "stdout",
     "output_type": "stream",
     "text": [
      "Epoch 28, Train Loss: 0.43344648540019987, Test Loss : 0.6413228213787079,  Accuracy: 0.6179775280898876, Precision: 0.631578947368421, Recall: 0.5454545454545454, F1 Score: 0.5853658536585366\n"
     ]
    },
    {
     "name": "stderr",
     "output_type": "stream",
     "text": [
      "  1%|          | 28/3000 [06:02<10:30:00, 12.72s/it]"
     ]
    },
    {
     "name": "stdout",
     "output_type": "stream",
     "text": [
      "Epoch 29, Train Loss: 0.4237756736576557, Test Loss : 0.6382179806629816,  Accuracy: 0.6573033707865169, Precision: 0.6363636363636364, Recall: 0.7159090909090909, F1 Score: 0.6737967914438503\n"
     ]
    },
    {
     "name": "stderr",
     "output_type": "stream",
     "text": [
      "  1%|          | 29/3000 [06:14<10:29:43, 12.72s/it]"
     ]
    },
    {
     "name": "stdout",
     "output_type": "stream",
     "text": [
      "Epoch 30, Train Loss: 0.4213789837062359, Test Loss : 0.6409169832865397,  Accuracy: 0.5955056179775281, Precision: 0.6052631578947368, Recall: 0.5227272727272727, F1 Score: 0.5609756097560975\n"
     ]
    },
    {
     "name": "stderr",
     "output_type": "stream",
     "text": [
      "  1%|          | 30/3000 [06:27<10:29:26, 12.72s/it]"
     ]
    },
    {
     "name": "stdout",
     "output_type": "stream",
     "text": [
      "Early stopping 기능이 31에서 실행되었습니다.\n"
     ]
    },
    {
     "name": "stderr",
     "output_type": "stream",
     "text": [
      "  1%|          | 30/3000 [06:40<11:00:41, 13.35s/it]\n"
     ]
    },
    {
     "name": "stdout",
     "output_type": "stream",
     "text": [
      "모델 학습 종료\n"
     ]
    }
   ],
   "source": [
    "model = CNN(embedding_dim, n_filters, filter_sizes, dropout, output_dim).to(device)\n",
    "criterion = nn.CrossEntropyLoss()\n",
    "optimizer = optim.Adam(model.parameters(), lr=learning_rate)\n",
    "\n",
    "best_loss = np.inf # 초기 설정\n",
    "patience = 5\n",
    "patience_counter = 0\n",
    "\n",
    "for epoch in tqdm(range(num_epochs)):\n",
    "    model.train()\n",
    "    \n",
    "    train_loss = 0.0\n",
    "\n",
    "    for inputs, labels in train_dataloader_30days :\n",
    "        inputs, labels = inputs.to(device), labels.to(device)\n",
    "        optimizer.zero_grad()\n",
    "\n",
    "        train_predictions = model(inputs)\n",
    "\n",
    "        loss = criterion(train_predictions, labels.long())\n",
    "        \n",
    "        loss.backward()\n",
    "        optimizer.step()\n",
    "\n",
    "        train_loss += loss.item()\n",
    "    \n",
    "    model.eval()\n",
    "    with torch.no_grad() : \n",
    "        all_test_labels = []\n",
    "        all_test_predictions = []\n",
    "        test_loss = 0.0\n",
    "\n",
    "        for inputs, labels in test_dataloader_30days : \n",
    "            inputs, labels = inputs.to(device), labels.to(device)\n",
    "            test_predictions = model(inputs)\n",
    "\n",
    "            loss = criterion(test_predictions, labels.long())\n",
    "            test_loss += loss.item()\n",
    "\n",
    "            all_test_labels.extend(labels.cpu().numpy())\n",
    "            all_test_predictions.extend(torch.argmax(test_predictions, dim=1).cpu().numpy())\n",
    "    \n",
    "    train_loss /= len(train_dataloader_30days)\n",
    "    test_loss /= len(test_dataloader_30days)\n",
    "\n",
    "    if test_loss < best_loss:\n",
    "        best_loss = test_loss\n",
    "        patience_counter = 0\n",
    "\n",
    "    else:\n",
    "        patience_counter += 1\n",
    "        if patience_counter >= patience:\n",
    "            print(f'Early stopping 기능이 {epoch+1}에서 실행되었습니다.')\n",
    "            break\n",
    "\n",
    "    all_labels = np.array(all_test_labels)\n",
    "    all_predictions = np.array(all_test_predictions)\n",
    "    \n",
    "    accuracy = accuracy_score(all_test_labels, all_test_predictions)\n",
    "    precision = precision_score(all_test_labels, all_test_predictions, average = 'binary')\n",
    "    recall = recall_score(all_test_labels, all_test_predictions, average = 'binary')\n",
    "    f1 = f1_score(all_test_labels, all_test_predictions, average = 'binary')\n",
    "    \n",
    "    print(f'Epoch {epoch+1}, Train Loss: {train_loss}, Test Loss : {test_loss},  Accuracy: {accuracy}, Precision: {precision}, Recall: {recall}, F1 Score: {f1}')\n",
    "\n",
    "print(\"모델 학습 종료\")"
   ]
  },
  {
   "cell_type": "code",
   "execution_count": 60,
   "metadata": {},
   "outputs": [
    {
     "name": "stderr",
     "output_type": "stream",
     "text": [
      "100%|██████████| 118/118 [00:17<00:00,  6.68it/s]\n",
      "100%|██████████| 60/60 [00:09<00:00,  6.59it/s]\n"
     ]
    },
    {
     "name": "stdout",
     "output_type": "stream",
     "text": [
      "30일 이내 재입원 환자 Chi-square Feature Anaylsis - Word: trach, Chi2: 46.62999205861445, p-value: 8.573792163551856e-12\n",
      "30일 이내 재입원 환자 Chi-square Feature Anaylsis - Word: po, Chi2: 41.30128440189896, p-value: 1.3048312701248091e-10\n",
      "30일 이내 재입원 환자 Chi-square Feature Anaylsis - Word: mg, Chi2: 38.95454122019472, p-value: 4.3379001687301745e-10\n",
      "30일 이내 재입원 환자 Chi-square Feature Anaylsis - Word: peak, Chi2: 33.78739922891153, p-value: 6.147576391616123e-09\n",
      "30일 이내 재입원 환자 Chi-square Feature Anaylsis - Word: ventricular, Chi2: 29.78009106912895, p-value: 4.839362075932311e-08\n",
      "30일 이내 재입원 환자 Chi-square Feature Anaylsis - Word: pericardial, Chi2: 27.988698435437637, p-value: 1.2202603966380087e-07\n",
      "30일 이내 재입원 환자 Chi-square Feature Anaylsis - Word: tracheostomy, Chi2: 23.404957646635662, p-value: 1.3123987175502007e-06\n",
      "30일 이내 재입원 환자 Chi-square Feature Anaylsis - Word: collection, Chi2: 23.404957646635662, p-value: 1.3123987175502007e-06\n",
      "30일 이내 재입원 환자 Chi-square Feature Anaylsis - Word: right, Chi2: 23.147428286708926, p-value: 1.5004373923207648e-06\n",
      "30일 이내 재입원 환자 Chi-square Feature Anaylsis - Word: home, Chi2: 22.694390732508793, p-value: 1.8992147055339385e-06\n",
      "30일 이내 재입원 환자 Chi-square Feature Anaylsis - Word: valve, Chi2: 22.65546446489384, p-value: 1.938082456189709e-06\n",
      "30일 이내 재입원 환자 Chi-square Feature Anaylsis - Word: av, Chi2: 22.415055370894233, p-value: 2.1964549845960705e-06\n",
      "30일 이내 재입원 환자 Chi-square Feature Anaylsis - Word: linezolid, Chi2: 21.46428905394384, p-value: 3.6047971799533053e-06\n",
      "30일 이내 재입원 환자 Chi-square Feature Anaylsis - Word: type, Chi2: 21.24684216542601, p-value: 4.03775031866445e-06\n",
      "30일 이내 재입원 환자 Chi-square Feature Anaylsis - Word: tunneled, Chi2: 19.32480859413251, p-value: 1.102643610959448e-05\n",
      "30일 이내 재입원 환자 Chi-square Feature Anaylsis - Word: losartan, Chi2: 19.219361796542817, p-value: 1.1652552259514217e-05\n",
      "30일 이내 재입원 환자 Chi-square Feature Anaylsis - Word: tricuspid, Chi2: 18.615766025736203, p-value: 1.5989274377776327e-05\n",
      "30일 이내 재입원 환자 Chi-square Feature Anaylsis - Word: bid, Chi2: 18.16473886130103, p-value: 2.0259535145839572e-05\n",
      "30일 이내 재입원 환자 Chi-square Feature Anaylsis - Word: subdural, Chi2: 17.86236175011373, p-value: 2.3747160730023595e-05\n",
      "30일 이내 재입원 환자 Chi-square Feature Anaylsis - Word: virus, Chi2: 17.602425865489696, p-value: 2.7224085023785927e-05\n"
     ]
    }
   ],
   "source": [
    "vector_to_word = {tuple(word2vec[word]): word for word in word2vec.index_to_key}\n",
    "\n",
    "def get_word_from_vector(vector, vector_to_word):\n",
    "    vector_tuple = tuple(vector)\n",
    "    return vector_to_word.get(vector_tuple, \"없음\")\n",
    "\n",
    "correct_indices = np.where(np.array(all_test_labels) == np.array(all_test_predictions))[0]\n",
    "incorrect_indices = np.where(np.array(all_test_labels) != np.array(all_test_predictions))[0]\n",
    "\n",
    "positive_words = []\n",
    "negative_words = []\n",
    "exclude_words = {\".\", \"없음\"}\n",
    "\n",
    "for idx in tqdm(correct_indices):\n",
    "    embedding_vectors = test_dataloader.dataset[idx][0].cpu().numpy()\n",
    "    for vector in embedding_vectors : \n",
    "        words = get_word_from_vector(vector, vector_to_word)\n",
    "        positive_words.append(words)\n",
    "\n",
    "for idx in tqdm(incorrect_indices):\n",
    "    embedding_vectors = test_dataloader.dataset[idx][0].cpu().numpy()\n",
    "    for vector in embedding_vectors : \n",
    "        words = get_word_from_vector(vector, vector_to_word)\n",
    "        negative_words.append(words)\n",
    "\n",
    "filtered_positive_words = [word for word in positive_words if word not in exclude_words]\n",
    "filtered_negative_words = [word for word in negative_words if word not in exclude_words]\n",
    "\n",
    "positive_word_counts = Counter(filtered_positive_words)\n",
    "negative_word_counts = Counter(filtered_negative_words)\n",
    "\n",
    "chi2_results = {}\n",
    "all_words = set(filtered_positive_words).union(set(filtered_negative_words))\n",
    "\n",
    "for word in all_words:\n",
    "    pos_count = positive_word_counts[word]\n",
    "    neg_count = negative_word_counts[word]\n",
    "    pos_total = len(filtered_positive_words)\n",
    "    neg_total = len(filtered_negative_words)\n",
    "    \n",
    "    observed = [[pos_count, pos_total - pos_count],\n",
    "                [neg_count, neg_total - neg_count]]\n",
    "    \n",
    "    chi2, p, _, _ = chi2_contingency(observed)\n",
    "    chi2_results[word] = (chi2, p)\n",
    "\n",
    "sorted_chi2_results = sorted(chi2_results.items(), key=lambda item: item[1][0], reverse=True)[:20]\n",
    "\n",
    "for word, (chi2, p) in sorted_chi2_results :\n",
    "    print(f\"30일 이내 재입원 환자 Chi-square Feature Anaylsis - Word: {word}, Chi2: {chi2}, p-value: {p}\")"
   ]
  },
  {
   "cell_type": "markdown",
   "metadata": {},
   "source": [
    "---"
   ]
  }
 ],
 "metadata": {
  "kernelspec": {
   "display_name": "medical",
   "language": "python",
   "name": "python3"
  },
  "language_info": {
   "codemirror_mode": {
    "name": "ipython",
    "version": 3
   },
   "file_extension": ".py",
   "mimetype": "text/x-python",
   "name": "python",
   "nbconvert_exporter": "python",
   "pygments_lexer": "ipython3",
   "version": "3.9.19"
  }
 },
 "nbformat": 4,
 "nbformat_minor": 2
}
