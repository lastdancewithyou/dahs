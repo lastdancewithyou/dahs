{
 "cells": [
  {
   "cell_type": "code",
   "execution_count": 1,
   "metadata": {},
   "outputs": [],
   "source": [
    "import pandas as pd"
   ]
  },
  {
   "cell_type": "code",
   "execution_count": 2,
   "metadata": {},
   "outputs": [],
   "source": [
    "def eGFR_calculation(creatinine, age, sex) : \n",
    "\n",
    "    if creatinine == 0 : \n",
    "        return None, None\n",
    "    \n",
    "    scr = creatinine\n",
    "\n",
    "    if sex == 'f' : \n",
    "        egfr_figure = 142 * min((scr/0.7),1)**(-0.241) * max((scr/0.7),1)**(-1.209) * 0.9938**(age) * 1.012\n",
    "\n",
    "    elif sex == 'm' :\n",
    "        egfr_figure = 142 * min((scr/0.9),1)**(-0.302) * max((scr/0.9),1)**(-1.209) * 0.9938**(age)\n",
    "\n",
    "    else : \n",
    "        return None, None\n",
    "    \n",
    "    if isinstance(egfr_figure, complex) : \n",
    "        return None, None\n",
    "    \n",
    "    if egfr_figure >= 90 :\n",
    "        stage_num = 1\n",
    "\n",
    "    elif (egfr_figure >= 60) & (egfr_figure < 90) : \n",
    "        stage_num = 2\n",
    "\n",
    "    elif (egfr_figure >= 45) & (egfr_figure < 60) : \n",
    "        stage_num = 3\n",
    "\n",
    "    elif (egfr_figure >= 30) & (egfr_figure < 45) : \n",
    "        stage_num = 3.5\n",
    "\n",
    "    elif (egfr_figure >= 15) & (egfr_figure < 30) : \n",
    "        stage_num = 4\n",
    "        \n",
    "    else : \n",
    "        stage_num = 5\n",
    "\n",
    "    return egfr_figure, stage_num"
   ]
  },
  {
   "cell_type": "code",
   "execution_count": 3,
   "metadata": {},
   "outputs": [
    {
     "data": {
      "text/plain": [
       "(144.2628287015199, 1)"
      ]
     },
     "execution_count": 3,
     "metadata": {},
     "output_type": "execute_result"
    }
   ],
   "source": [
    "eGFR_calculation(0.5,26,'m')"
   ]
  }
 ],
 "metadata": {
  "kernelspec": {
   "display_name": "medical",
   "language": "python",
   "name": "python3"
  },
  "language_info": {
   "codemirror_mode": {
    "name": "ipython",
    "version": 3
   },
   "file_extension": ".py",
   "mimetype": "text/x-python",
   "name": "python",
   "nbconvert_exporter": "python",
   "pygments_lexer": "ipython3",
   "version": "3.9.19"
  }
 },
 "nbformat": 4,
 "nbformat_minor": 2
}
